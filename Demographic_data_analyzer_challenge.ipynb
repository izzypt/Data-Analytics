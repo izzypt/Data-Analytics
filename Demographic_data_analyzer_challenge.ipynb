{
  "nbformat": 4,
  "nbformat_minor": 0,
  "metadata": {
    "colab": {
      "name": "Demographic_data_analyzer_challenge.ipynb",
      "provenance": [],
      "collapsed_sections": []
    },
    "kernelspec": {
      "name": "python3",
      "display_name": "Python 3"
    },
    "language_info": {
      "name": "python"
    }
  },
  "cells": [
    {
      "cell_type": "markdown",
      "source": [
        "# Demographic Data Analyzer\n",
        "\n",
        "In this challenge you must analyze demographic data using Pandas. You are given a dataset of demographic data that was extracted from the 1994 Census database. Here is a sample of what the data looks like:\n",
        "\n",
        "|    |   age | workclass        |   fnlwgt | education   |   education-num | marital-status     | occupation        | relationship   | race   | sex    |   capital-gain |   capital-loss |   hours-per-week | native-country   | salary   |\n",
        "|---:|------:|:-----------------|---------:|:------------|----------------:|:-------------------|:------------------|:---------------|:-------|:-------|---------------:|---------------:|-----------------:|:-----------------|:---------|\n",
        "|  0 |    39 | State-gov        |    77516 | Bachelors   |              13 | Never-married      | Adm-clerical      | Not-in-family  | White  | Male   |           2174 |              0 |               40 | United-States    | <=50K    |\n",
        "|  1 |    50 | Self-emp-not-inc |    83311 | Bachelors   |              13 | Married-civ-spouse | Exec-managerial   | Husband        | White  | Male   |              0 |              0 |               13 | United-States    | <=50K    |\n",
        "|  2 |    38 | Private          |   215646 | HS-grad     |               9 | Divorced           | Handlers-cleaners | Not-in-family  | White  | Male   |              0 |              0 |               40 | United-States    | <=50K    |\n",
        "|  3 |    53 | Private          |   234721 | 11th        |               7 | Married-civ-spouse | Handlers-cleaners | Husband        | Black  | Male   |              0 |              0 |               40 | United-States    | <=50K    |\n",
        "|  4 |    28 | Private          |   338409 | Bachelors   |              13 | Married-civ-spouse | Prof-specialty    | Wife           | Black  | Female |              0 |              0 |               40 | Cuba             | <=50K    |\n",
        "\n",
        "\n",
        "You must use Pandas to answer the following questions:\n",
        "* How many people of each race are represented in this dataset? This should be a Pandas series with race names as the index labels. (`race` column)\n",
        "* What is the average age of men?\n",
        "* What is the percentage of people who have a Bachelor's degree?\n",
        "* What percentage of people with advanced education (`Bachelors`, `Masters`, or `Doctorate`) make more than 50K?\n",
        "* What percentage of people without advanced education make more than 50K?\n",
        "* What is the minimum number of hours a person works per week?\n",
        "* What percentage of the people who work the minimum number of hours per week have a salary of more than 50K?\n",
        "* What country has the highest percentage of people that earn >50K and what is that percentage?\n",
        "* Identify the most popular occupation for those who earn >50K in India. \n",
        "\n",
        "### <h3 style=\"text-align:center\">Dataset Source</h3>\n",
        "\n",
        "Dua, D. and Graff, C. (2019). UCI Machine Learning Repository [http://archive.ics.uci.edu/ml]. Irvine, CA: University of California, School of Information and Computer Science."
      ],
      "metadata": {
        "id": "ionaIxwNg_XJ"
      }
    },
    {
      "cell_type": "markdown",
      "source": [
        "###**1) How many people of each race are represented in this dataset?</li>**"
      ],
      "metadata": {
        "id": "Pro_RHRW4Aeh"
      }
    },
    {
      "cell_type": "code",
      "source": [
        "import pandas as pd\n",
        "\n",
        "# Read data from file\n",
        "df = pd.read_csv('/content/sample_data/adult.data.csv')\n",
        "\n",
        "# How many of each race are represented in this dataset? This should be a Pandas series with race names as the index labels.\n",
        "#Series.value_counts() function return a Series containing counts of unique values\n",
        "race_count = df['race'].value_counts()\n",
        "\n",
        "race_count"
      ],
      "metadata": {
        "colab": {
          "base_uri": "https://localhost:8080/"
        },
        "id": "E98y_rxlhMzR",
        "outputId": "b3145d95-912a-419a-cdd8-1881547ee626"
      },
      "execution_count": 75,
      "outputs": [
        {
          "output_type": "execute_result",
          "data": {
            "text/plain": [
              "White                 27816\n",
              "Black                  3124\n",
              "Asian-Pac-Islander     1039\n",
              "Amer-Indian-Eskimo      311\n",
              "Other                   271\n",
              "Name: race, dtype: int64"
            ]
          },
          "metadata": {},
          "execution_count": 75
        }
      ]
    },
    {
      "cell_type": "markdown",
      "source": [
        "###**2) What is the average age of men?</li>**"
      ],
      "metadata": {
        "id": "oChMIRp24GYK"
      }
    },
    {
      "cell_type": "code",
      "source": [
        "# What is the average age of men?\n",
        "#.mean() returns the average\n",
        "average_age_men = round(df['age'][df['sex'] == 'Male'].mean(),1)\n",
        "\n",
        "print(f'Answer: The average age of men is {average_age_men} years old.')\n"
      ],
      "metadata": {
        "colab": {
          "base_uri": "https://localhost:8080/"
        },
        "id": "PjOzaG7zjcgx",
        "outputId": "9a25579d-2c77-4820-f093-3a058e532414"
      },
      "execution_count": 76,
      "outputs": [
        {
          "output_type": "stream",
          "name": "stdout",
          "text": [
            "Answer: The average age of men is 39.4 years old.\n"
          ]
        }
      ]
    },
    {
      "cell_type": "markdown",
      "source": [
        "###**3) What is the percentage of people who have a Bachelor's degree?</li>**"
      ],
      "metadata": {
        "id": "Xmv9HhZk4NlS"
      }
    },
    {
      "cell_type": "code",
      "source": [
        "# What is the percentage of people who have a Bachelor's degree?\n",
        "percentage_bachelors = round(df['education'][df['education'] == 'Bachelors'].count()/df['education'].count()*100,1)\n",
        "\n",
        "print(f'Answer: The percentage of people with a bachelors degree is {percentage_bachelors}%')"
      ],
      "metadata": {
        "colab": {
          "base_uri": "https://localhost:8080/"
        },
        "id": "H9lMtWs4k0EB",
        "outputId": "9ab25238-1892-464b-91ea-4a97aca091ec"
      },
      "execution_count": 77,
      "outputs": [
        {
          "output_type": "stream",
          "name": "stdout",
          "text": [
            "Answer: The percentage of people with a bachelors degree is 16.4%\n"
          ]
        }
      ]
    },
    {
      "cell_type": "markdown",
      "source": [
        "\n",
        "###    **4.1) What percentage of people with advanced education (Bachelors, Masters, or Doctorate) make more than 50K?</li>**\n",
        "###    **4.2) What percentage of people without advanced education make more than 50K?</li>**\n"
      ],
      "metadata": {
        "id": "JPfopGgq4ZAb"
      }
    },
    {
      "cell_type": "code",
      "source": [
        "# What percentage of people with advanced education (`Bachelors`, `Masters`, or `Doctorate`) make more than 50K?\n",
        "# What percentage of people without advanced education make more than 50K?\n",
        "\n",
        "# with and without `Bachelors`, `Masters`, or `Doctorate`\n",
        "higher_education = df['education'][(df['education'] == 'Bachelors')|(df['education'] == 'Masters')|(df['education'] == 'Doctorate')].count()\n",
        "lower_education = df['education'][(df['education'] != 'Bachelors')&(df['education'] != 'Masters')&(df['education'] != 'Doctorate')].count()"
      ],
      "metadata": {
        "id": "qvsseVsTl0L0"
      },
      "execution_count": 78,
      "outputs": []
    },
    {
      "cell_type": "code",
      "source": [
        "# percentage with salary >50K\n",
        "higher_education_rich = df['education'][(df['education'] == 'Bachelors')|(df['education'] == 'Masters')|(df['education'] == 'Doctorate')][(df['salary'] == '>50K')].count()\n",
        "lower_education_rich = df['salary'][(df['salary'] == '>50K') & (df['education'] != 'Bachelors')&(df['education'] != 'Masters')&(df['education'] != 'Doctorate')].count()\n",
        "\n",
        "percentage_rich_higher_education = round(higher_education_rich/higher_education*100,1)\n",
        "percentage_rich_lower_education = round(lower_education_rich/lower_education*100,1)\n",
        "\n",
        "print(f'Answer: {percentage_rich_higher_education}% of the people with advanced education make more than 50k.')\n",
        "print(f'Answer: {percentage_rich_lower_education}% of the people without advanced education make more than 50k.')"
      ],
      "metadata": {
        "colab": {
          "base_uri": "https://localhost:8080/"
        },
        "id": "DH8VYp4Qqo3f",
        "outputId": "19904d8f-022a-401c-cba6-fbddbb3683ec"
      },
      "execution_count": 79,
      "outputs": [
        {
          "output_type": "stream",
          "name": "stdout",
          "text": [
            "Answer: 46.5% of the people with advanced education make more than 50k.\n",
            "Answer: 17.4% of the people without advanced education make more than 50k.\n"
          ]
        }
      ]
    },
    {
      "cell_type": "markdown",
      "source": [
        "###***5) What is the minimum number of hours a person works per week?***"
      ],
      "metadata": {
        "id": "stUaKd9J5E8m"
      }
    },
    {
      "cell_type": "code",
      "source": [
        "# What is the minimum number of hours a person works per week (hours-per-week feature)?\n",
        "min_work_hours = df['hours-per-week'].min()\n",
        "\n",
        "print(f'Answer: The minimum hours a person works per week is {min_work_hours}')"
      ],
      "metadata": {
        "colab": {
          "base_uri": "https://localhost:8080/"
        },
        "id": "LZ62JnGr1A09",
        "outputId": "dfb7ddc0-8071-42e8-dc4a-ad1fa659ddd7"
      },
      "execution_count": 80,
      "outputs": [
        {
          "output_type": "stream",
          "name": "stdout",
          "text": [
            "Answer: The minimum hours a person works per week is 1\n"
          ]
        }
      ]
    },
    {
      "cell_type": "markdown",
      "source": [
        "###***6) What percentage of the people who work the minimum number of hours per week have a salary of more than 50K?***"
      ],
      "metadata": {
        "id": "Jde9tp065KMu"
      }
    },
    {
      "cell_type": "code",
      "source": [
        "# What percentage of the people who work the minimum number of hours per week have a salary of >50K?\n",
        "num_min_workers = df['salary'][df['hours-per-week'] == min_work_hours].count()\n",
        "\n",
        "rich_percentage = round(df['salary'][(df['hours-per-week'] == min_work_hours)&(df['salary'] == '>50K')].count()/num_min_workers*100,1)\n",
        "\n",
        "print(f'Answer: From the total of people who work the minimum hours per weeek, {rich_percentage}% make more than 50k.')"
      ],
      "metadata": {
        "colab": {
          "base_uri": "https://localhost:8080/"
        },
        "id": "Mk66TH4-1mIT",
        "outputId": "93d1c577-ce2c-4928-a931-96b6bbdc0a21"
      },
      "execution_count": 81,
      "outputs": [
        {
          "output_type": "stream",
          "name": "stdout",
          "text": [
            "Answer: From the total of people who work the minimum hours per weeek, 10.0% make more than 50k.\n"
          ]
        }
      ]
    },
    {
      "cell_type": "markdown",
      "source": [
        "### **7) What country has the highest percentage of people that earn >50K and what is that percentage?**"
      ],
      "metadata": {
        "id": "mBd3TE8h2WOL"
      }
    },
    {
      "cell_type": "code",
      "source": [
        "highest_earning_country = df['native-country'][df['salary'] == '>50K'].value_counts()/df['native-country'].value_counts()\n",
        "\n",
        "percentage_value = round(highest_earning_country.max()*100,1)\n",
        "\n",
        "country = highest_earning_country.idxmax() #idmax will return the index of the maximum value\n",
        "\n",
        "\n",
        "print(f'The country with the highest percentage of people that earn >50k in that dataset is {country} and the percentage is {percentage_value}%.')"
      ],
      "metadata": {
        "colab": {
          "base_uri": "https://localhost:8080/"
        },
        "id": "CZqcszUd2bNj",
        "outputId": "a8d2b003-dba2-402a-c5cf-21e313ed9672"
      },
      "execution_count": 82,
      "outputs": [
        {
          "output_type": "stream",
          "name": "stdout",
          "text": [
            "The country with the highest percentage of people that earn >50k in that dataset is Iran and the percentage is 41.9%.\n"
          ]
        }
      ]
    },
    {
      "cell_type": "markdown",
      "source": [
        "\n",
        "\n",
        "\n",
        "\n",
        "###  **8) Identify the most popular occupation for those who earn >50K in India.**\n",
        "\n",
        "\n",
        "\n",
        "\n",
        "\n"
      ],
      "metadata": {
        "id": "OILQavYdzSDD"
      }
    },
    {
      "cell_type": "code",
      "source": [
        "india_pop_ocup = df['occupation'][(df['salary'] == '>50K')& (df['native-country'] == 'India')].value_counts().index[0]\n",
        "\n",
        "print(f'Answer: The most popular occupation for those who earn more than 50k is \"{india_pop_ocup}\".')"
      ],
      "metadata": {
        "colab": {
          "base_uri": "https://localhost:8080/"
        },
        "id": "H_hH8TiLezz6",
        "outputId": "3e69c465-fe02-445d-d52b-69bfcafa2d97"
      },
      "execution_count": 83,
      "outputs": [
        {
          "output_type": "stream",
          "name": "stdout",
          "text": [
            "Answer: The most popular occupation for those who earn more than 50k is \"Prof-specialty\".\n"
          ]
        }
      ]
    }
  ]
}